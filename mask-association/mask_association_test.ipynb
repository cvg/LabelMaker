{
 "cells": [
  {
   "cell_type": "code",
   "execution_count": 1,
   "metadata": {},
   "outputs": [
    {
     "name": "stderr",
     "output_type": "stream",
     "text": [
      "/home/user/zhang2/miniconda3/envs/sdfstudio/lib/python3.10/site-packages/deeplake/util/check_latest_version.py:32: UserWarning: A newer version of deeplake (4.1.6) is available. It's recommended that you update to the latest version using `pip install -U deeplake`.\n",
      "  warnings.warn(\n"
     ]
    },
    {
     "name": "stdout",
     "output_type": "stream",
     "text": [
      "/home/user/zhang2/mask-association/optimized/union_find.cpython-310-x86_64-linux-gnu.so\n"
     ]
    }
   ],
   "source": [
    "import sys\n",
    "# print(\"\\n\".join(sys.path))\n",
    "# print(sys.executable)\n",
    "import deeplake\n",
    "from utils.deeplake_utils import STORAGE_DIR\n",
    "\n",
    "# !!! STORAGE_DIR should the path of your processed deeplake dataset after running prepare_test_data.py\n",
    "\n",
    "from sequence_segmentation import SequenceSegmentationConfig\n",
    "import optimized.union_find\n",
    "print(optimized.union_find.__file__)"
   ]
  },
  {
   "cell_type": "code",
   "execution_count": 2,
   "metadata": {},
   "outputs": [],
   "source": [
    "tensor_name_mask = 'sam/instances/bmasks'\n",
    "tensor_name_bbox = 'sam/instances/bboxes'\n",
    "tensor_name_output = 'sam'"
   ]
  },
  {
   "cell_type": "markdown",
   "metadata": {},
   "source": [
    "# 'sam/sequence_segmentation/mask' is the key of the result of mask association"
   ]
  },
  {
   "cell_type": "code",
   "execution_count": 3,
   "metadata": {},
   "outputs": [
    {
     "name": "stdout",
     "output_type": "stream",
     "text": [
      "/home/user/zhang2/IML/data/scannet/scene0164_02 loaded successfully.\n",
      "\n"
     ]
    },
    {
     "name": "stderr",
     "output_type": "stream",
     "text": [
      "/home/user/zhang2/miniconda3/envs/sdfstudio/lib/python3.10/site-packages/deeplake/api/dataset.py:845: UserWarning: Dataset has more than 20 tensors. Skipping integrity check. Specify `check_integrity=True` to perform integrity check.\n",
      "  warnings.warn(\n",
      "\n",
      "WARNING:root:The length of tensors in the dataset is different. The len(ds) returns the length of the smallest tensor in the dataset. If you want the length of the longest tensor in the dataset use ds.max_len.\n"
     ]
    },
    {
     "name": "stdout",
     "output_type": "stream",
     "text": [
      "Dataset(path='/home/user/zhang2/IML/data/scannet/scene0164_02', tensors=['image', 'instances/mask', 'metadata', 'pose', 'sam/instances/bboxes', 'sam/instances/bmasks', 'sam/instances/mask'])\n",
      "\n",
      "        tensor             htype               shape           dtype  compression\n",
      "       -------            -------             -------         -------  ------- \n",
      "        image              image        (241, 480, 640, 3)     uint8     png   \n",
      "    instances/mask     instance_label     (241, 480, 640)      int32     lz4   \n",
      "       metadata             json             (241, 1)           str     None   \n",
      "         pose             generic           (241, 4, 4)       float32   None   \n",
      " sam/instances/bboxes       bbox          (241, 8:27, 4)       int32    None   \n",
      " sam/instances/bmasks   binary_mask    (241, 480, 640, 8:27)   bool      lz4   \n",
      "  sam/instances/mask    segment_mask      (241, 480, 640)      int32     lz4   \n",
      "None\n",
      "{'camera_params': {'cx': 319.8765432098765, 'cy': 239.87603305785126, 'fx': 577.8706113580246, 'fy': 580.258506446281, 'height': 480, 'width': 640}, 'consensus/semantics/num_classes': 188, 'sam/instances/num_instances': 188}\n",
      "Unpacking dataset /home/user/zhang2/IML/data/scannet/scene0164_02...\n"
     ]
    },
    {
     "name": "stderr",
     "output_type": "stream",
     "text": [
      "[2025/02/04 22:47:01 hloc INFO] Extracting local features with configuration:\n",
      "{'model': {'name': 'netvlad'},\n",
      " 'output': 'global-feats-netvlad',\n",
      " 'preprocessing': {'resize_max': 1024}}\n",
      "[2025/02/04 22:47:01 hloc INFO] Found 241 images in root /home/user/zhang2/IML/data/scannet/scene0164_02/registration/scannet#scene0164_02_sequence_segmentation/images.\n",
      "100%|██████████| 241/241 [00:03<00:00, 71.64it/s] \n",
      "[2025/02/04 22:47:09 hloc INFO] Finished exporting features.\n",
      "[2025/02/04 22:47:09 hloc INFO] Extracting semi-dense features with configuration:\n",
      "{'cell_size': 1,\n",
      " 'max_error': 1,\n",
      " 'model': {'name': 'loftr', 'weights': 'indoor'},\n",
      " 'output': 'matches-loftr',\n",
      " 'preprocessing': {'dfactor': 8, 'grayscale': True, 'resize_max': 1024}}\n",
      "[2025/02/04 22:47:09 hloc INFO] Performing dense matching...\n",
      "100%|██████████| 3761/3761 [05:14<00:00, 11.95it/s]\n",
      "[2025/02/04 22:52:24 hloc INFO] Assigning matches...\n",
      "[2025/02/04 22:52:24 hloc INFO] Aggregating keypoints for 241 images.\n",
      "100%|██████████| 3761/3761 [01:01<00:00, 60.76it/s]\n",
      "[2025/02/04 22:53:26 hloc INFO] Finished assignment, found 8174.1 keypoints/image (avg.), total 1969950.\n",
      "[2025/02/04 22:53:26 hloc INFO] Reassign matches with max_error=1.\n",
      "100%|██████████| 3761/3761 [00:19<00:00, 193.60it/s]\n"
     ]
    },
    {
     "name": "stdout",
     "output_type": "stream",
     "text": [
      "SequenceSegmentationConfig:\n",
      "    _target: <class 'sequence_segmentation.SequenceSegmentation'>\n",
      "    container_config: {'descriptors_extractor_global': 'netvlad', 'matcher': 'loftr'}\n",
      "    min_match_score: 0.75\n",
      "    min_match_keypoints: 4\n",
      "    min_track_len: 10\n",
      "    min_track_len_disjoint: 3\n",
      "    communities_threshold: 3\n",
      "    communities_repeat_depth: 1\n",
      "    matcher_vpr_pairs_config: {'min_score': 0.25, 'min_num_matched': 10}\n",
      "    matcher_keypoints_config: {'model': {'weights': 'indoor'}, 'max_error': 1, 'cell_size': 1}\n",
      "    tensor_name_mask: sam/instances/bmasks\n",
      "    tensor_name_bbox: sam/instances/bboxes\n",
      "    tensor_name_output: sam\n"
     ]
    },
    {
     "name": "stderr",
     "output_type": "stream",
     "text": [
      "Reading matches: 100%|██████████| 3761/3761 [00:00<00:00, 6529.91it/s]\n",
      "Generating frames: 241it [00:08, 27.49it/s]\n",
      "Merging regions: 100%|██████████| 3761/3761 [00:02<00:00, 1660.83it/s]\n"
     ]
    },
    {
     "name": "stdout",
     "output_type": "stream",
     "text": [
      "Graph stats:\n",
      "Nodes:  4166\n",
      "Edges:  25989\n",
      "Found 116 communities with more than 3 members.\n",
      "{0, 2, 3, 4, 5, 6, 7, 8, 515, 10, 11, 12, 14, 15, 16, 19, 535, 26, 31, 44, 55, 66, 2114, 580, 2116, 82, 2644, 2134, 2154, 142, 150, 169, 2736, 182, 2247, 206, 3282, 2271, 3295, 1252, 2282, 2794, 249, 2823, 1298, 1302, 1305, 1316, 1317, 1321, 305, 307, 1331, 3400, 3408, 1367, 1369, 1377, 1384, 364, 1389, 1390, 884, 2420, 2932, 2424, 2941, 1405, 1441, 1466, 1470, 1476, 2500, 476, 2018, 490, 493, 1525, 2557}\n",
      "Found 79 instance labels, including background.\n"
     ]
    },
    {
     "name": "stderr",
     "output_type": "stream",
     "text": [
      "  0%|          | 0/241 [00:00<?, ?it/s]/home/user/zhang2/miniconda3/envs/sdfstudio/lib/python3.10/site-packages/deeplake/core/tensor.py:719: UserWarning: Indexing by integer in a for loop, like `for i in range(len(ds)): ... ds.tensor[i]` can be quite slow. Use `for i, sample in enumerate(ds)` instead.\n",
      "  warnings.warn(\n",
      "100%|██████████| 241/241 [00:00<00:00, 469.04it/s]\n"
     ]
    },
    {
     "name": "stdout",
     "output_type": "stream",
     "text": [
      "Dataset(path='/home/user/zhang2/IML/data/scannet/scene0164_02', tensors=['image', 'instances/mask', 'metadata', 'pose', 'sam/instances/bboxes', 'sam/instances/bmasks', 'sam/instances/mask', 'sam/sequence_segmentation/mask'])\n",
      "\n",
      "             tensor                  htype               shape           dtype  compression\n",
      "            -------                 -------             -------         -------  ------- \n",
      "             image                   image        (241, 480, 640, 3)     uint8     png   \n",
      "         instances/mask          instance_label     (241, 480, 640)      int32     lz4   \n",
      "            metadata                  json             (241, 1)           str     None   \n",
      "              pose                  generic           (241, 4, 4)       float32   None   \n",
      "      sam/instances/bboxes            bbox          (241, 8:27, 4)       int32    None   \n",
      "      sam/instances/bmasks        binary_mask    (241, 480, 640, 8:27)   bool      lz4   \n",
      "       sam/instances/mask         segment_mask      (241, 480, 640)      int32     lz4   \n",
      " sam/sequence_segmentation/mask     generic         (241, 480, 640)      int32    None   \n",
      "None\n",
      "{'camera_params': {'cx': 319.8765432098765, 'cy': 239.87603305785126, 'fx': 577.8706113580246, 'fy': 580.258506446281, 'height': 480, 'width': 640}, 'consensus/semantics/num_classes': 188, 'sam/instances/num_instances': 188, 'sam/sequence_segmentation/num_classes': 79}\n"
     ]
    },
    {
     "name": "stderr",
     "output_type": "stream",
     "text": []
    }
   ],
   "source": [
    "ds = deeplake.load(STORAGE_DIR/'scannet/scene0164_02')\n",
    "print(ds.summary())\n",
    "print(ds.info)\n",
    "ss = SequenceSegmentationConfig(\n",
    "    tensor_name_bbox=tensor_name_bbox,\n",
    "    tensor_name_mask=tensor_name_mask,\n",
    "    tensor_name_output=tensor_name_output,\n",
    ").setup(ds=ds)\n",
    "ss.create_storage_tensors()\n",
    "ss.append_features(ds)\n",
    "print(ds.summary())\n",
    "print(ds.info)"
   ]
  },
  {
   "cell_type": "markdown",
   "metadata": {},
   "source": [
    "# We did not create associated masks for the whole sequence, but only for the subsampled dataset with 'sub_sample_size'. This should be noticed when we convert the associated instance masks from deeplake format to the LabelMaker format."
   ]
  },
  {
   "cell_type": "code",
   "execution_count": 7,
   "metadata": {},
   "outputs": [],
   "source": [
    "import os \n",
    "import numpy as np\n",
    "from PIL import Image\n",
    "output_folder = \"/home/user/zhang2/LabelMaker/data/scannet/scene0164_02/sam_associated\"\n",
    "os.makedirs(output_folder, exist_ok=True)\n",
    "\n",
    "sub_sample_size = 5\n",
    "for i,image in enumerate(ds['sam/sequence_segmentation/mask']):\n",
    "    image_array = np.array(image.numpy())\n",
    "    # print(np.unique(image_array))\n",
    "    img = Image.fromarray(image_array)\n",
    "    key = i*sub_sample_size\n",
    "    output_path = os.path.join(output_folder, f\"{key:06d}.png\")\n",
    "    img.save(output_path)\n",
    "\n",
    "    # print(f\"Saved image {i} to {output_path}\")"
   ]
  },
  {
   "cell_type": "code",
   "execution_count": null,
   "metadata": {},
   "outputs": [],
   "source": []
  }
 ],
 "metadata": {
  "kernelspec": {
   "display_name": "sdfstudio",
   "language": "python",
   "name": "python3"
  },
  "language_info": {
   "codemirror_mode": {
    "name": "ipython",
    "version": 3
   },
   "file_extension": ".py",
   "mimetype": "text/x-python",
   "name": "python",
   "nbconvert_exporter": "python",
   "pygments_lexer": "ipython3",
   "version": "3.10.16"
  }
 },
 "nbformat": 4,
 "nbformat_minor": 2
}
