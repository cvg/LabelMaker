{
 "cells": [
  {
   "cell_type": "code",
   "execution_count": 1,
   "id": "85176e92",
   "metadata": {},
   "outputs": [],
   "source": [
    "import os\n",
    "\n",
    "import numpy as np\n",
    "import pandas as pd\n",
    "\n",
    "from PIL import Image\n",
    "\n"
   ]
  },
  {
   "cell_type": "code",
   "execution_count": 2,
   "id": "51917db1",
   "metadata": {},
   "outputs": [],
   "source": [
    "from skimage.metrics import structural_similarity, peak_signal_noise_ratio\n",
    "from skimage.metrics import mean_squared_error\n",
    "\n",
    "# define all metrics\n",
    "\n",
    "def psnr(pred, gt):\n",
    "    return peak_signal_noise_ratio(pred, gt)\n",
    "\n",
    "def ssim(pred, gt):\n",
    "    return structural_similarity(gt, pred, channel_axis=-1)\n",
    "\n"
   ]
  },
  {
   "cell_type": "code",
   "execution_count": 3,
   "id": "6b208063",
   "metadata": {},
   "outputs": [
    {
     "data": {
      "text/plain": [
       "['debug_1000_10',\n",
       " 'debug_600_5_loftr_sequential',\n",
       " 'debug_200_5_loftr_sequential',\n",
       " 'debug_200_10_loftr',\n",
       " 'point_to_plane_full',\n",
       " 'debug',\n",
       " 'point_to_plane_5_filter_retrieval',\n",
       " 'debug_100_10',\n",
       " 'scannet_pose_refinement_downsample_1_sequential_loftr',\n",
       " 'scannet_pose_refinement',\n",
       " 'debug_100_25',\n",
       " 'point_to_plane_5',\n",
       " 'debug_200_10',\n",
       " 'scannet_pose_refinement_downsample_5_sequential+retrieval_loftr_no_icp',\n",
       " 'debug_200_20_loftr_sequential',\n",
       " 'point_to_plane_5_filter_retrieval_uncertain_threshold',\n",
       " 'scannet_pose_refinement_downsample_5',\n",
       " 'default',\n",
       " 'scannet_pose_refinement_downsample_5_sequential_loftr_no_icp']"
      ]
     },
     "execution_count": 3,
     "metadata": {},
     "output_type": "execute_result"
    }
   ],
   "source": [
    "DATA_PATH = '/home/weders/scratch/scratch/03-PEOPLE/weders/datasets/scannet/scans'\n",
    "RESULT_PATH = '../../pose_refinement/output'\n",
    "\n",
    "os.listdir(RESULT_PATH)"
   ]
  },
  {
   "cell_type": "code",
   "execution_count": 4,
   "id": "2cacb703",
   "metadata": {},
   "outputs": [],
   "source": [
    "EXPERIMENT = 'scannet_pose_refinement_downsample_5_sequential_loftr_no_icp'\n",
    "SCENE = 'scene0575_00'"
   ]
  },
  {
   "cell_type": "code",
   "execution_count": 5,
   "id": "967b1ae6",
   "metadata": {},
   "outputs": [],
   "source": [
    "experiment_path = os.path.join(RESULT_PATH, EXPERIMENT, SCENE)\n"
   ]
  },
  {
   "cell_type": "code",
   "execution_count": 6,
   "id": "d34cdaae",
   "metadata": {},
   "outputs": [
    {
     "data": {
      "text/plain": [
       "['relative',\n",
       " 'colmap',\n",
       " 'nerf_raw',\n",
       " 'absolute',\n",
       " 'nerf_pgo',\n",
       " 'scannet',\n",
       " 'relative_pose_graph',\n",
       " 'nerf_ba']"
      ]
     },
     "execution_count": 6,
     "metadata": {},
     "output_type": "execute_result"
    }
   ],
   "source": [
    "os.listdir(experiment_path)"
   ]
  },
  {
   "cell_type": "code",
   "execution_count": 7,
   "id": "16067043",
   "metadata": {},
   "outputs": [],
   "source": [
    "results = {'nerf': [], 'frame': [], 'ssim': [], 'psnr': []}\n"
   ]
  },
  {
   "cell_type": "code",
   "execution_count": 8,
   "id": "697322b8",
   "metadata": {},
   "outputs": [],
   "source": [
    "# evaluate nerf raw\n",
    "nerf_exp = 'nerf_raw'\n",
    "\n",
    "pred_path = os.path.join(experiment_path, nerf_exp, 'renderings')\n",
    "gt_path = os.path.join(experiment_path, 'scannet/color_scaled')\n",
    "\n",
    "pred_files = sorted([f for f in os.listdir(pred_path) if 'vis' not in f], key=lambda x: int(x.split('.')[0]))\n",
    "\n",
    "for f in pred_files:\n",
    "    f_pred = os.path.join(pred_path, f)\n",
    "    f_gt = os.path.join(gt_path, f)\n",
    "    \n",
    "    img_pred = np.asarray(Image.open(f_pred))\n",
    "    img_gt = np.asarray(Image.open(f_gt))\n",
    "\n",
    "    results['nerf'].append('raw')\n",
    "    results['frame'].append(f)\n",
    "    results['ssim'].append(ssim(img_pred, img_gt))\n",
    "    results['psnr'].append(psnr(img_pred, img_gt))\n",
    "\n",
    "    \n",
    "\n"
   ]
  },
  {
   "cell_type": "code",
   "execution_count": 9,
   "id": "f526afbd",
   "metadata": {},
   "outputs": [],
   "source": [
    "# evaluate nerf raw\n",
    "nerf_exp = 'nerf_pgo'\n",
    "\n",
    "pred_path = os.path.join(experiment_path, nerf_exp, 'renderings')\n",
    "gt_path = os.path.join(experiment_path, 'scannet/color_scaled')\n",
    "\n",
    "pred_files = sorted([f for f in os.listdir(pred_path) if 'vis' not in f], key=lambda x: int(x.split('.')[0]))\n",
    "\n",
    "results_pgo = {'frame': [], 'ssim': [], 'psnr': []}\n",
    "\n",
    "for f in pred_files:\n",
    "    f_pred = os.path.join(pred_path, f)\n",
    "    f_gt = os.path.join(gt_path, f)\n",
    "    \n",
    "    img_pred = np.asarray(Image.open(f_pred))\n",
    "    img_gt = np.asarray(Image.open(f_gt))\n",
    "    \n",
    "    results['nerf'].append('pgo')\n",
    "    results['frame'].append(f)\n",
    "    results['ssim'].append(ssim(img_pred, img_gt))\n",
    "    results['psnr'].append(psnr(img_pred, img_gt))\n",
    "\n",
    "\n",
    "    \n",
    "\n"
   ]
  },
  {
   "cell_type": "code",
   "execution_count": 10,
   "id": "1280c8c0",
   "metadata": {},
   "outputs": [],
   "source": [
    "# evaluate nerf raw\n",
    "nerf_exp = 'nerf_ba'\n",
    "\n",
    "pred_path = os.path.join(experiment_path, nerf_exp, 'renderings')\n",
    "gt_path = os.path.join(experiment_path, 'scannet/color_scaled')\n",
    "\n",
    "pred_files = sorted([f for f in os.listdir(pred_path) if 'vis' not in f], key=lambda x: int(x.split('.')[0]))\n",
    "\n",
    "results_ba = {'frame': [], 'ssim': [], 'psnr': []}\n",
    "\n",
    "for f in pred_files:\n",
    "    f_pred = os.path.join(pred_path, f)\n",
    "    f_gt = os.path.join(gt_path, f)\n",
    "    \n",
    "    img_pred = np.asarray(Image.open(f_pred))\n",
    "    img_gt = np.asarray(Image.open(f_gt))\n",
    "    \n",
    "        \n",
    "    results['nerf'].append('ba')\n",
    "    results['frame'].append(f)\n",
    "    results['ssim'].append(ssim(img_pred, img_gt))\n",
    "    results['psnr'].append(psnr(img_pred, img_gt))\n",
    "\n",
    "    \n"
   ]
  },
  {
   "cell_type": "code",
   "execution_count": 11,
   "id": "bfb1b3ff",
   "metadata": {},
   "outputs": [],
   "source": [
    "results_pd = pd.DataFrame(results)"
   ]
  },
  {
   "cell_type": "code",
   "execution_count": 12,
   "id": "ada99830",
   "metadata": {},
   "outputs": [
    {
     "name": "stderr",
     "output_type": "stream",
     "text": [
      "/tmp/ipykernel_17217/2683964134.py:1: FutureWarning: The default value of numeric_only in DataFrameGroupBy.mean is deprecated. In a future version, numeric_only will default to False. Either specify numeric_only or select only columns which should be valid for the function.\n",
      "  results_pd.groupby('nerf').mean()\n"
     ]
    },
    {
     "data": {
      "text/html": [
       "<div>\n",
       "<style scoped>\n",
       "    .dataframe tbody tr th:only-of-type {\n",
       "        vertical-align: middle;\n",
       "    }\n",
       "\n",
       "    .dataframe tbody tr th {\n",
       "        vertical-align: top;\n",
       "    }\n",
       "\n",
       "    .dataframe thead th {\n",
       "        text-align: right;\n",
       "    }\n",
       "</style>\n",
       "<table border=\"1\" class=\"dataframe\">\n",
       "  <thead>\n",
       "    <tr style=\"text-align: right;\">\n",
       "      <th></th>\n",
       "      <th>ssim</th>\n",
       "      <th>psnr</th>\n",
       "    </tr>\n",
       "    <tr>\n",
       "      <th>nerf</th>\n",
       "      <th></th>\n",
       "      <th></th>\n",
       "    </tr>\n",
       "  </thead>\n",
       "  <tbody>\n",
       "    <tr>\n",
       "      <th>ba</th>\n",
       "      <td>0.714870</td>\n",
       "      <td>23.906001</td>\n",
       "    </tr>\n",
       "    <tr>\n",
       "      <th>pgo</th>\n",
       "      <td>0.720016</td>\n",
       "      <td>24.326579</td>\n",
       "    </tr>\n",
       "    <tr>\n",
       "      <th>raw</th>\n",
       "      <td>0.715727</td>\n",
       "      <td>23.957656</td>\n",
       "    </tr>\n",
       "  </tbody>\n",
       "</table>\n",
       "</div>"
      ],
      "text/plain": [
       "          ssim       psnr\n",
       "nerf                     \n",
       "ba    0.714870  23.906001\n",
       "pgo   0.720016  24.326579\n",
       "raw   0.715727  23.957656"
      ]
     },
     "execution_count": 12,
     "metadata": {},
     "output_type": "execute_result"
    }
   ],
   "source": [
    "results_pd.groupby('nerf').mean()"
   ]
  },
  {
   "cell_type": "code",
   "execution_count": 13,
   "id": "924949d0",
   "metadata": {},
   "outputs": [
    {
     "data": {
      "text/html": [
       "<div>\n",
       "<style scoped>\n",
       "    .dataframe tbody tr th:only-of-type {\n",
       "        vertical-align: middle;\n",
       "    }\n",
       "\n",
       "    .dataframe tbody tr th {\n",
       "        vertical-align: top;\n",
       "    }\n",
       "\n",
       "    .dataframe thead th {\n",
       "        text-align: right;\n",
       "    }\n",
       "</style>\n",
       "<table border=\"1\" class=\"dataframe\">\n",
       "  <thead>\n",
       "    <tr style=\"text-align: right;\">\n",
       "      <th></th>\n",
       "      <th>nerf</th>\n",
       "      <th>frame</th>\n",
       "      <th>ssim</th>\n",
       "      <th>psnr</th>\n",
       "    </tr>\n",
       "  </thead>\n",
       "  <tbody>\n",
       "    <tr>\n",
       "      <th>0</th>\n",
       "      <td>raw</td>\n",
       "      <td>0.jpg</td>\n",
       "      <td>0.642903</td>\n",
       "      <td>21.464268</td>\n",
       "    </tr>\n",
       "    <tr>\n",
       "      <th>1</th>\n",
       "      <td>raw</td>\n",
       "      <td>50.jpg</td>\n",
       "      <td>0.664947</td>\n",
       "      <td>21.693968</td>\n",
       "    </tr>\n",
       "    <tr>\n",
       "      <th>2</th>\n",
       "      <td>raw</td>\n",
       "      <td>100.jpg</td>\n",
       "      <td>0.647191</td>\n",
       "      <td>20.056648</td>\n",
       "    </tr>\n",
       "    <tr>\n",
       "      <th>3</th>\n",
       "      <td>raw</td>\n",
       "      <td>150.jpg</td>\n",
       "      <td>0.628395</td>\n",
       "      <td>20.411901</td>\n",
       "    </tr>\n",
       "    <tr>\n",
       "      <th>4</th>\n",
       "      <td>raw</td>\n",
       "      <td>200.jpg</td>\n",
       "      <td>0.671232</td>\n",
       "      <td>21.159330</td>\n",
       "    </tr>\n",
       "    <tr>\n",
       "      <th>...</th>\n",
       "      <td>...</td>\n",
       "      <td>...</td>\n",
       "      <td>...</td>\n",
       "      <td>...</td>\n",
       "    </tr>\n",
       "    <tr>\n",
       "      <th>145</th>\n",
       "      <td>ba</td>\n",
       "      <td>2250.jpg</td>\n",
       "      <td>0.736175</td>\n",
       "      <td>24.025437</td>\n",
       "    </tr>\n",
       "    <tr>\n",
       "      <th>146</th>\n",
       "      <td>ba</td>\n",
       "      <td>2300.jpg</td>\n",
       "      <td>0.731921</td>\n",
       "      <td>23.527980</td>\n",
       "    </tr>\n",
       "    <tr>\n",
       "      <th>147</th>\n",
       "      <td>ba</td>\n",
       "      <td>2350.jpg</td>\n",
       "      <td>0.753054</td>\n",
       "      <td>26.167051</td>\n",
       "    </tr>\n",
       "    <tr>\n",
       "      <th>148</th>\n",
       "      <td>ba</td>\n",
       "      <td>2400.jpg</td>\n",
       "      <td>0.755340</td>\n",
       "      <td>25.507281</td>\n",
       "    </tr>\n",
       "    <tr>\n",
       "      <th>149</th>\n",
       "      <td>ba</td>\n",
       "      <td>2450.jpg</td>\n",
       "      <td>0.792810</td>\n",
       "      <td>23.547674</td>\n",
       "    </tr>\n",
       "  </tbody>\n",
       "</table>\n",
       "<p>150 rows × 4 columns</p>\n",
       "</div>"
      ],
      "text/plain": [
       "    nerf     frame      ssim       psnr\n",
       "0    raw     0.jpg  0.642903  21.464268\n",
       "1    raw    50.jpg  0.664947  21.693968\n",
       "2    raw   100.jpg  0.647191  20.056648\n",
       "3    raw   150.jpg  0.628395  20.411901\n",
       "4    raw   200.jpg  0.671232  21.159330\n",
       "..   ...       ...       ...        ...\n",
       "145   ba  2250.jpg  0.736175  24.025437\n",
       "146   ba  2300.jpg  0.731921  23.527980\n",
       "147   ba  2350.jpg  0.753054  26.167051\n",
       "148   ba  2400.jpg  0.755340  25.507281\n",
       "149   ba  2450.jpg  0.792810  23.547674\n",
       "\n",
       "[150 rows x 4 columns]"
      ]
     },
     "execution_count": 13,
     "metadata": {},
     "output_type": "execute_result"
    }
   ],
   "source": [
    "results_pd"
   ]
  },
  {
   "cell_type": "code",
   "execution_count": 15,
   "id": "f2a40d0e",
   "metadata": {},
   "outputs": [
    {
     "ename": "AttributeError",
     "evalue": "module 'matplotlib.pyplot' has no attribute 'subolots'",
     "output_type": "error",
     "traceback": [
      "\u001b[0;31m---------------------------------------------------------------------------\u001b[0m",
      "\u001b[0;31mAttributeError\u001b[0m                            Traceback (most recent call last)",
      "Cell \u001b[0;32mIn[15], line 22\u001b[0m\n\u001b[1;32m     19\u001b[0m img_ba \u001b[38;5;241m=\u001b[39m np\u001b[38;5;241m.\u001b[39masarray(Image\u001b[38;5;241m.\u001b[39mopen(f_pred_ba))\n\u001b[1;32m     20\u001b[0m img_gt \u001b[38;5;241m=\u001b[39m np\u001b[38;5;241m.\u001b[39masarray(Image\u001b[38;5;241m.\u001b[39mopen(f_gt))\n\u001b[0;32m---> 22\u001b[0m fig, ax \u001b[38;5;241m=\u001b[39m \u001b[43mplt\u001b[49m\u001b[38;5;241;43m.\u001b[39;49m\u001b[43msubolots\u001b[49m(\u001b[38;5;241m1\u001b[39m, \u001b[38;5;241m4\u001b[39m)\n\u001b[1;32m     23\u001b[0m ax[\u001b[38;5;241m0\u001b[39m]\u001b[38;5;241m.\u001b[39mimshow(img_raw)\n\u001b[1;32m     24\u001b[0m ax[\u001b[38;5;241m1\u001b[39m]\u001b[38;5;241m.\u001b[39mimshow(img_pgo)\n",
      "\u001b[0;31mAttributeError\u001b[0m: module 'matplotlib.pyplot' has no attribute 'subolots'"
     ]
    }
   ],
   "source": [
    "# visualize all images\n",
    "import matplotlib.pyplot as plt\n",
    "\n",
    "\n",
    "gt_path = os.path.join(experiment_path, 'scannet/color_scaled')\n",
    "pred_raw_path = os.path.join(experiment_path, 'nerf_raw', 'renderings')\n",
    "pred_pgo_path = os.path.join(experiment_path, 'nerf_pgo', 'renderings')\n",
    "pred_ba_path = os.path.join(experiment_path, 'nerf_ba', 'renderings')\n",
    "\n",
    "for f in pred_files:\n",
    "    \n",
    "    f_pred_raw = os.path.join(pred_raw_path, f)\n",
    "    f_pred_pgo = os.path.join(pred_pgo_path, f)\n",
    "    f_pred_ba = os.path.join(pred_ba_path, f)\n",
    "    f_gt = os.path.join(gt_path, f)\n",
    "    \n",
    "    img_raw = np.asarray(Image.open(f_pred_raw))\n",
    "    img_pgo = np.asarray(Image.open(f_pred_pgo))\n",
    "    img_ba = np.asarray(Image.open(f_pred_ba))\n",
    "    img_gt = np.asarray(Image.open(f_gt))\n",
    "    \n",
    "    fig, ax = plt.subplots(1, 4)\n",
    "    ax[0].imshow(img_raw)\n",
    "    ax[1].imshow(img_pgo)\n",
    "    ax[2].imshow(img_ba)\n",
    "    ax[3].imshow(img_gt)\n",
    "    \n",
    "    for ax_ in ax:\n",
    "        ax_.set_xticks([])\n",
    "        ax_.set_yticks([])\n",
    "    plt.tight_layout()\n",
    "    plt.show()\n",
    "    \n",
    "\n"
   ]
  },
  {
   "cell_type": "code",
   "execution_count": null,
   "id": "0489e0a0",
   "metadata": {},
   "outputs": [],
   "source": []
  }
 ],
 "metadata": {
  "kernelspec": {
   "display_name": "scannetter",
   "language": "python",
   "name": "scannetter"
  },
  "language_info": {
   "codemirror_mode": {
    "name": "ipython",
    "version": 3
   },
   "file_extension": ".py",
   "mimetype": "text/x-python",
   "name": "python",
   "nbconvert_exporter": "python",
   "pygments_lexer": "ipython3",
   "version": "3.8.16"
  }
 },
 "nbformat": 4,
 "nbformat_minor": 5
}
